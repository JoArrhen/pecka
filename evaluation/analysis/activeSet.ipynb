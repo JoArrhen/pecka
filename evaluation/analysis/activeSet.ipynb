{
 "cells": [
  {
   "cell_type": "code",
   "execution_count": null,
   "metadata": {},
   "outputs": [],
   "source": [
    "import pandas as pd\n",
    "def get_avg_methods(dir, filename):\n",
    "    df = pd.read_csv(f'../results/{dir}/{filename}', comment='#', dtype={'runid': str}, converters={'runid': lambda x: x.strip()})\n",
    "    df_mean = df.groupby('runid')[['methods', 'distance']].mean().reset_index()\n",
    "    return df, df_mean\n",
    "\n",
    "df, df_mean = get_avg_methods('MBPROlocal_activeSet_1_1_20240318132104', 'antlr-2.7.2_bfpa.new')\n",
    "df"
   ]
  },
  {
   "cell_type": "code",
   "execution_count": null,
   "metadata": {},
   "outputs": [],
   "source": [
    "import plotly.graph_objects as go\n",
    "import os\n",
    "\n",
    "results_dir = \"MBPROlocal_activeSet_1_1_20240318135456\"\n",
    "\n",
    "fig = go.Figure()\n",
    "\n",
    "for item in os.listdir(f'../results/{results_dir}'):\n",
    "    if item.endswith('.new'):\n",
    "        _, df_mean = get_avg_methods(results_dir, item)\n",
    "        fig.add_trace(go.Scatter(x=df_mean['distance'], y=df_mean['methods'], mode='markers', name=item))\n",
    "\n",
    "fig.update_layout(\n",
    "    title='Average number of methods in the active set vs distance',\n",
    "    xaxis_title='Distance',\n",
    "    yaxis_title='Methods',\n",
    "    legend_title='Projects',\n",
    "    showlegend=True\n",
    ")\n",
    "fig.show()"
   ]
  }
 ],
 "metadata": {
  "kernelspec": {
   "display_name": "bfpa",
   "language": "python",
   "name": "python3"
  },
  "language_info": {
   "codemirror_mode": {
    "name": "ipython",
    "version": 3
   },
   "file_extension": ".py",
   "mimetype": "text/x-python",
   "name": "python",
   "nbconvert_exporter": "python",
   "pygments_lexer": "ipython3",
   "version": "3.9.16"
  }
 },
 "nbformat": 4,
 "nbformat_minor": 2
}
