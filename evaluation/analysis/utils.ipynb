{
 "cells": [
  {
   "cell_type": "code",
   "execution_count": null,
   "metadata": {},
   "outputs": [],
   "source": [
    "# Go through each dir in results and present the content in stats.txt\n",
    "import os\n",
    "import shutil\n",
    "import pandas as pd\n",
    "from datetime import datetime\n",
    "\n",
    "results_dir = '../results/'\n",
    "stats_data = []\n",
    "\n",
    "for item in os.listdir(results_dir):\n",
    "    dir_path = os.path.join(results_dir, item)\n",
    "    if os.path.isdir(dir_path):\n",
    "        if len(os.listdir(dir_path)) == 1: # There is only the stat file\n",
    "            shutil.rmtree(dir_path)\n",
    "            continue\n",
    "        stats_file_path = os.path.join(dir_path, 'stats.txt')\n",
    "        projects = []\n",
    "        for file in os.listdir(dir_path):\n",
    "            if file != 'stats.txt' and os.path.isfile(os.path.join(dir_path, file)):\n",
    "                projects.append(file)\n",
    "\n",
    "        if os.path.isfile(stats_file_path):\n",
    "            with open(stats_file_path, 'r') as file:\n",
    "                content = file.read().splitlines()\n",
    "                stats_dict = {}\n",
    "                for line in content:\n",
    "                    if ': ' in line:\n",
    "                        key, value = line.split(': ', 1)\n",
    "                        stats_dict[key] = value\n",
    "                stats_dict['Directory'] = item\n",
    "                stats_dict['Projects'] = ', '.join(projects)\n",
    "                stats_data.append(stats_dict)\n",
    "\n",
    "stats_df = pd.DataFrame(stats_data)\n",
    "\n",
    "if 'Directory' in stats_df.columns:\n",
    "    cols = ['Directory', 'Projects'] + [col for col in stats_df if col not in ['Directory', 'Projects']]\n",
    "    stats_df = stats_df.reindex(columns=cols)\n",
    "\n",
    "stats_df = stats_df[stats_df['Machine'] == 'ub20']\n",
    "stats_df.sort_values(by='Evaluation date', ascending=True).reset_index()"
   ]
  }
 ],
 "metadata": {
  "kernelspec": {
   "display_name": "bfpa",
   "language": "python",
   "name": "python3"
  },
  "language_info": {
   "codemirror_mode": {
    "name": "ipython",
    "version": 3
   },
   "file_extension": ".py",
   "mimetype": "text/x-python",
   "name": "python",
   "nbconvert_exporter": "python",
   "pygments_lexer": "ipython3",
   "version": "3.9.16"
  }
 },
 "nbformat": 4,
 "nbformat_minor": 2
}
