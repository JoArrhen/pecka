import pandas as pd
import matplotlib.pyplot as plt
id = "20240313101759"
macbook_eval = "macbook_pointsto_20240314074005"

experiment = macbook_eval
df = pd.read_csv(f"results/{experiment}/antlr-2.7.2_bfpa_steady_results.new", comment='#')

df['time'] = df['time'] / 1000000000 # Convert from nanoseconds to seconds
    
df['normalized_time'] = df.groupby('runid')['time'].transform(lambda x: (x - x.min()) / (x.max() - x.min()) if x.max() > x.min() else 0)
df.head()


import matplotlib.pyplot as plt

colors = plt.colormaps['tab20']
fig, ax = plt.subplots(2, 2, figsize=(20, 12))  # 2 rows, 2 columns

# Time by Index for Each Run
for i, group in df.groupby('runid'):
    color = colors(i / df['runid'].nunique())
    ax[0, 0].plot(group.index, group['time'], label=f'ID {i}', color=color)

ax[0, 0].set_title('Time by Index for All Runs')
ax[0, 0].set_xlabel('Index')
ax[0, 0].set_ylabel('Time')

# Normalized Time by Index for Each Run
for i, group in df.groupby('runid'):
    color = colors(i / df['runid'].nunique())
    ax[0, 1].plot(group.index, group['normalized_time'], label=f'ID {i}', color=color)

ax[0, 1].set_title('Normalized Time by Index for All Runs')
ax[0, 1].set_xlabel('Index')
ax[0, 1].set_ylabel('Normalized Time')
ax[0, 1].legend(title='Run', bbox_to_anchor=(1.05, 1), loc='upper left')

# Time by Iteration for Each ID
for i, group in df.groupby('runid'):
    color = colors(i / df['runid'].nunique())
    ax[1, 0].plot(group['iteration'], group['time'], label=f'ID {i}', color=color)

ax[1, 0].set_title('Time by Iteration for Each ID')
ax[1, 0].set_xlabel('Iteration')
ax[1, 0].set_ylabel('Time')

# Normalized Time by Iteration for Each ID
for i, group in df.groupby('runid'):
    color = colors(i / df['runid'].nunique())
    ax[1, 1].plot(group['iteration'], group['normalized_time'], label=f'ID {i}', color=color)

ax[1, 1].set_title('Normalized Time by Iteration for Each ID')
ax[1, 1].set_xlabel('Iteration')
ax[1, 1].set_ylabel('Normalized Time')

plt.tight_layout()
plt.show()


df_last_values = df.groupby('runid').last().reset_index()

df_mean_times = df_last_values.groupby(['distance'])['time'].mean().reset_index(name='mean_time')
df_mean_allocs = df_last_values.groupby(['distance'])['alloc_count'].sum().reset_index(name='mean_alloc_count')
df_mean_types = df_last_values.groupby(['distance'])['type_count'].sum().reset_index(name='mean_type_count')

df_res = pd.merge(df_mean_times, pd.merge(df_mean_allocs, df_mean_types, on='distance'), on='distance', how='left')
df_res


fig, (ax1, ax2, ax3) = plt.subplots(1, 3, figsize=(15, 4))  # 1 row, 3 columns

# Plot Distance vs Mean Time on the first subplot
ax1.plot(df_res['distance'], df_res['mean_time'], color='black', marker='o', linestyle='-')
ax1.set_title('Distance vs Mean Time')
ax1.set_xlabel('Distance')
ax1.set_ylabel('Mean Time (s)')
ax1.grid(True)

# Plot Distance vs Mean Alloc Count and Mean Type Count on the second subplot
ax2.plot(df_res['distance'], df_res['mean_alloc_count'], color='black', marker='o', linestyle='-', label='Mean Alloc Count')
#ax2.plot(df_res['distance'], df_res['mean_type_count'], color='black', marker='^', linestyle='-.', label='Mean Type Count')
ax2.set_title('Distance vs Counts')
ax2.set_xlabel('Distance')
ax2.set_ylabel('Allocations')
ax2.legend()
ax2.grid(True)

# Plot Distance vs Mean Alloc Count and Mean Type Count on the second subplot
ax3.plot(df_res['distance'], df_res['mean_type_count'], color='black', marker='o', linestyle='-', label='Mean Type Count')
ax3.set_title('Distance vs Counts')
ax3.set_xlabel('Distance')
ax3.set_ylabel('Types')
ax3.legend()
ax3.grid(True)

# Adjust layout to prevent overlapping
plt.tight_layout()


import plotly.graph_objects as go
from plotly.subplots import make_subplots

# Assuming df is your DataFrame

# Create subplots
fig = make_subplots(rows=2, cols=2, subplot_titles=('Time by Index for All Runs', 'Normalized Time by Index for All Runs', 'Time by Iteration for Each ID', 'Normalized Time by Iteration for Each ID'))

colors = [plt.get_cmap('tab20')(i / df['runid'].nunique()) for i in range(df['runid'].nunique())]

# Time by Index for Each Run
for i, (runid, group) in enumerate(df.groupby('runid')):
    fig.add_trace(go.Scatter(x=group.index, y=group['time'], mode='lines', name=f'ID {runid}', line=dict(color=colors[i])), row=1, col=1)

# Normalized Time by Index for Each Run
for i, (runid, group) in enumerate(df.groupby('runid')):
    fig.add_trace(go.Scatter(x=group.index, y=group['normalized_time'], mode='lines', name=f'ID {runid}', line=dict(color=colors[i])), row=1, col=2)

# Time by Iteration for Each ID
for i, (runid, group) in enumerate(df.groupby('runid')):
    fig.add_trace(go.Scatter(x=group['iteration'], y=group['time'], mode='lines', name=f'ID {runid}', line=dict(color=colors[i])), row=2, col=1)

# Normalized Time by Iteration for Each ID
for i, (runid, group) in enumerate(df.groupby('runid')):
    fig.add_trace(go.Scatter(x=group['iteration'], y=group['normalized_time'], mode='lines', name=f'ID {runid}', line=dict(color=colors[i])), row=2, col=2)

# Update xaxis properties
fig.update_xaxes(title_text="Index", row=1, col=1)
fig.update_xaxes(title_text="Index", row=1, col=2)
fig.update_xaxes(title_text="Iteration", row=2, col=1)
fig.update_xaxes(title_text="Iteration", row=2, col=2)

# Update yaxis properties
fig.update_yaxes(title_text="Time", row=1, col=1)
fig.update_yaxes(title_text="Normalized Time", row=1, col=2)
fig.update_yaxes(title_text="Time", row=2, col=1)
fig.update_yaxes(title_text="Normalized Time", row=2, col=2)

fig.update_layout(height=600, width=800, title_text="Subplots with Different Metrics")
fig.show()




